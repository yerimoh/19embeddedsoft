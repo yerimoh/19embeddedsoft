{
 "cells": [
  {
   "cell_type": "code",
   "execution_count": null,
   "metadata": {},
   "outputs": [],
   "source": [
    "import numpy as np\n",
    "import cv2\n",
    "\n",
    "cap = cv2.VideoCapture(\"영상파일 후반부/확진지역_빨강_파랑2.avi\")\n",
    "\n",
    "if cap.isOpened() == False:\n",
    "    print(\"카메라를 열 수 없습니다.\")\n",
    "    exit(1)\n",
    "\n",
    "while(True):\n",
    "    ret,img_frame = cap.read()\n",
    "    if ret==False:\n",
    "        print(\"캡쳐 실패\")\n",
    "        break\n",
    "    key=cv2.waitKey(1)\n",
    "    if key==27:\n",
    "        break\n",
    "\n",
    "    # input image, name color\n",
    "    img_hsv=cv2.cvtColor(img_frame, cv2.COLOR_BGR2HSV_FULL)\n",
    "    green_lower=(40, 30, 10)\n",
    "    green_upper=(100, 255, 255)\n",
    "    black_lower=(0, 0, 0)\n",
    "    black_upper=(255, 255, 80)\n",
    "\n",
    "    #detect mask\n",
    "    img_mask_green = cv2.inRange(img_hsv, green_lower, green_upper)\n",
    "    img_mask_black = cv2.inRange(img_hsv, black_lower, black_upper)\n",
    "\n",
    "    green_sum=np.sum(img_mask_green)\n",
    "    black_sum=np.sum(img_mask_black)\n",
    "    # print(red_sum)\n",
    "    if green_sum >= black_sum:\n",
    "        print(\"안전지역\")\n",
    "    else:\n",
    "        print(\"확진지역\")\n",
    "\n",
    "\n",
    "cv2.waitKey()\n",
    "cv2.destroyAllWindows()"
   ]
  }
 ],
 "metadata": {
  "kernelspec": {
   "display_name": "Python 3",
   "language": "python",
   "name": "python3"
  },
  "language_info": {
   "codemirror_mode": {
    "name": "ipython",
    "version": 3
   },
   "file_extension": ".py",
   "mimetype": "text/x-python",
   "name": "python",
   "nbconvert_exporter": "python",
   "pygments_lexer": "ipython3",
   "version": "3.8.5"
  }
 },
 "nbformat": 4,
 "nbformat_minor": 4
}
