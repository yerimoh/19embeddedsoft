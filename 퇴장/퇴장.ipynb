{
 "cells": [
  {
   "cell_type": "code",
   "execution_count": null,
   "metadata": {},
   "outputs": [],
   "source": [
    "import numpy as np\n",
    "import cv2\n",
    "\n",
    "cap = cv2.VideoCapture(\"/Users/han/Documents/study/python_OpenCV/11:5 영상자료/선보고걸어가기(25도).avi\")\n",
    "\n",
    "if cap.isOpened() == False:\n",
    "    print(\"카메라를 열 수 없습니다.\")\n",
    "    exit(1)\n",
    "\n",
    "while(True):\n",
    "    ret,img_frame = cap.read()\n",
    "    if ret==False:\n",
    "        print(\"캡쳐 실패\")\n",
    "        break\n",
    "    key=cv2.waitKey(1)\n",
    "    if key==27:\n",
    "        break\n",
    "\n",
    "    # input image, name color\n",
    "    img_copy = img_frame.copy()\n",
    "    img_blur = cv2.GaussianBlur(img_copy, (5,5) ,0)\n",
    "    img_hsv=cv2.cvtColor(img_copy, cv2.COLOR_BGR2HSV_FULL)\n",
    "\n",
    "    road_lower=(10, 100, 100)\n",
    "    road_upper=(40, 255, 180)\n",
    "\n",
    "    ## 물체 mask\n",
    "    img_mask_road = cv2.inRange(img_hsv, road_lower, road_upper)\n",
    "\n",
    "    ## x=0 pixel에서 y값의 개수찾기\n",
    "    if np.count_nonzero(img_mask_road[:,0]) > 88: #88 = reference value\n",
    "        print(\"출구 길 확인\")\n",
    "        \n",
    "    cv2.imshow(\"contour\",img_mask_road)\n",
    "\n",
    "cv2.waitKey()\n",
    "cv2.destroyAllWindows()"
   ]
  }
 ],
 "metadata": {
  "kernelspec": {
   "display_name": "Python 3",
   "language": "python",
   "name": "python3"
  },
  "language_info": {
   "codemirror_mode": {
    "name": "ipython",
    "version": 3
   },
   "file_extension": ".py",
   "mimetype": "text/x-python",
   "name": "python",
   "nbconvert_exporter": "python",
   "pygments_lexer": "ipython3",
   "version": "3.8.5"
  }
 },
 "nbformat": 4,
 "nbformat_minor": 4
}
