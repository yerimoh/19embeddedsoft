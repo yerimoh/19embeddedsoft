{
  "nbformat": 4,
  "nbformat_minor": 0,
  "metadata": {
    "colab": {
      "name": "방위인식 최종.ipynb",
      "provenance": []
    },
    "kernelspec": {
      "name": "python3",
      "display_name": "Python 3"
    },
    "language_info": {
      "name": "python"
    }
  },
  "cells": [
    {
      "cell_type": "code",
      "metadata": {
        "id": "D9y8z2CtJdYX"
      },
      "source": [
        "import numpy as np\n",
        "import pytesseract\n",
        "import cv2\n",
        "cap = cv2.VideoCapture(\"nv.avi\")\n",
        "\n",
        "if cap.isOpened() == False:\n",
        "    print(\"카메라를 열 수 없습니다.\")\n",
        "    exit(1)\n",
        "\n",
        "while(True):\n",
        "    ret,img_frame = cap.read()\n",
        "    if ret==False:\n",
        "        print(\"캡쳐 실패\")\n",
        "        break\n",
        "    key=cv2.waitKey(1)\n",
        "    if key==27:\n",
        "        break\n",
        "    img_copy = img_frame.copy()\n",
        "\n",
        "    # Grayscale, Gaussian blur, Otsu's threshold\n",
        "    image = img_copy\n",
        "    gray = cv2.cvtColor(image, cv2.COLOR_BGR2GRAY)\n",
        "\n",
        "    # 추가\n",
        "    kernel3 = np.ones((5,5),np.float32)/25\n",
        "    thresh = cv2.filter2D(gray, - 1, kernel3)\n",
        "\n",
        "    blur = cv2.GaussianBlur(thresh, (3,3), 0)\n",
        "    thresh = cv2.threshold(blur, 70, 255, cv2.THRESH_BINARY_INV)[1]\n",
        "\n",
        "\n",
        "\n",
        "    # Morph open to remove noise and invert image\n",
        "    kernel = cv2.getStructuringElement(cv2.MORPH_RECT, (3,3))\n",
        "    opening = cv2.morphologyEx(thresh, cv2.MORPH_OPEN, kernel, iterations=1)\n",
        "    invert = 255 - opening\n",
        "    bordersize = 1000\n",
        "    border = cv2.copyMakeBorder(\n",
        "        invert,\n",
        "        top=bordersize,\n",
        "        bottom=bordersize,\n",
        "        left=bordersize,\n",
        "        right=bordersize,\n",
        "        borderType=cv2.BORDER_CONSTANT,\n",
        "        value=[255]\n",
        "    )\n",
        "\n",
        "\n",
        "\n",
        "    # Perform text extraction\n",
        "    data = pytesseract.image_to_string(border, lang='eng', config='—psm 10')\n",
        "    if data == 'W' or data == 'w' or data == 'Ww' or data == 'VV':\n",
        "       print('W')\n",
        "    elif data == 'S' or data == 'S,' or data == 'S;' or data == 's' or data == 's,' or data == 's;' or data ==  '»':\n",
        "       print('S')\n",
        "    elif data == 'N' or data == 'Ni':\n",
        "       print('N')\n",
        "    elif data == 'E' or data == 'a':    #  사용자 지정 예외처리\n",
        "       print('N')   \n",
        "    #print(data)\n",
        "\n",
        "    cv2.imshow('thresh', thresh)\n",
        "    cv2.imshow('opening', opening)\n",
        "    cv2.imshow('invert', border)\n",
        "cv2.waitKey()\n",
        "cv2.destroyAllWindows()"
      ],
      "execution_count": null,
      "outputs": []
    }
  ]
}