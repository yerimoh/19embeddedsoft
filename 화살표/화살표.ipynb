{
 "cells": [
  {
   "cell_type": "code",
   "execution_count": null,
   "metadata": {},
   "outputs": [],
   "source": [
    "import cv2\n",
    "img = cv2.imread('rightdirection.jpg')\n",
    "\n",
    "img_blur = cv2.blur(img,(5,5))\n",
    "\n",
    "imgray = cv2.cvtColor(img_blur, cv2.COLOR_BGR2GRAY)\n",
    "ret ,thr1 = cv2.threshold(imgray, 40, 255, cv2.THRESH_BINARY)\n",
    "\n",
    "#print(thr1[0][0])\n",
    "\n",
    "headX = None\n",
    "head = None\n",
    "\n",
    "for i in range(len(thr1)):\n",
    "    for j in range(len(thr1[i])):\n",
    "        if thr1[i][j] == 0:\n",
    "            headX = i\n",
    "            head = j\n",
    "            break\n",
    "    if head is not None:\n",
    "        break\n",
    "\n",
    "#print(head)\n",
    "\n",
    "contours, _ = cv2.findContours(thr1, cv2.RETR_TREE, cv2.CHAIN_APPROX_SIMPLE)\n",
    "\n",
    "cnt = contours[0]\n",
    "mmt = cv2.moments(cnt)\n",
    "# for key, value in mmt.items():\n",
    "#     print(key,\" : \",value)\n",
    "\n",
    "cx = int(mmt['m10']/mmt['m00'])\n",
    "cy = int(mmt['m01']/mmt['m00'])\n",
    "# print( 'x 무게중심', cx, 'y 무게중심', cy )\n",
    "\n",
    "img=cv2.line(img,(cx,cy), (cx,cy), (255,0,0), 5)\n",
    "img=cv2.line(img,(head,headX), (head,headX), (255,0,0), 5)\n",
    "\n",
    "if cx > head:\n",
    "    print(\"go right\")\n",
    "elif cx < head:\n",
    "    print(\"go left\")\n",
    "\n",
    "cv2.imshow(\"point\", img)\n",
    "cv2.waitKey(0)\n",
    "cv2.destroyAllWindows()"
   ]
  }
 ],
 "metadata": {
  "kernelspec": {
   "display_name": "Python 3",
   "language": "python",
   "name": "python3"
  },
  "language_info": {
   "codemirror_mode": {
    "name": "ipython",
    "version": 3
   },
   "file_extension": ".py",
   "mimetype": "text/x-python",
   "name": "python",
   "nbconvert_exporter": "python",
   "pygments_lexer": "ipython3",
   "version": "3.8.5"
  }
 },
 "nbformat": 4,
 "nbformat_minor": 4
}
