{
 "cells": [
  {
   "cell_type": "code",
   "execution_count": null,
   "metadata": {},
   "outputs": [],
   "source": [
    "import numpy as np\n",
    "import cv2\n",
    "\n",
    "cap = cv2.VideoCapture(\"/Users/han/Documents/study/python_OpenCV/영상녹화본/화살표 오른쪽 video.mp4\")\n",
    "\n",
    "if cap.isOpened() == False:\n",
    "    print(\"카메라를 열 수 없습니다.\")\n",
    "    exit(1)\n",
    "\n",
    "while(True):\n",
    "    ret,img_frame = cap.read()\n",
    "    if ret==False:\n",
    "        print(\"캡쳐 실패\")\n",
    "        break\n",
    "    key=cv2.waitKey(1)\n",
    "    if key==27:\n",
    "        break\n",
    "\n",
    "    # input image, name color\n",
    "    img_copy = img_frame.copy()\n",
    "    src=cv2.cvtColor(img_copy, cv2.COLOR_RGB2GRAY)\n",
    "    src=cv2.threshold(src, 70, 255, cv2.THRESH_BINARY_INV)[1]\n",
    "\n",
    "    sobel_x = cv2.Sobel(src,cv2.CV_64F,1,0,ksize=3)\n",
    "    sobel_y = cv2.Sobel(src,cv2.CV_64F,0,1,ksize=3)\n",
    "    sobel  = cv2.addWeighted (sobel_x , 1, sobel_y, 1, 0)\n",
    "\n",
    "    x_point= np.nonzero(sobel)[0]\n",
    "    y_point = np.nonzero(sobel)[1]\n",
    "    listy_non = y_point.tolist()\n",
    "    listx_non = x_point.tolist()\n",
    "\n",
    "    # 길이\n",
    "    length = x_point.size\n",
    "\n",
    "    left = 0\n",
    "    right = 0\n",
    "    for i in range(length-1):\n",
    "        if listx_non[i] > 320:\n",
    "            right +=1\n",
    "        elif listx_non[i] < 320:\n",
    "            left+=1\n",
    "    print(left)\n",
    "    print(right)\n",
    "    if right > left:\n",
    "        print(\"right\")\n",
    "    else:\n",
    "        print(\"left\")\n",
    "\n",
    "    cv2.imshow('',sobel)\n",
    "\n",
    "cv2.waitKey()\n",
    "cv2.destroyAllWindows()"
   ]
  }
 ],
 "metadata": {
  "kernelspec": {
   "display_name": "Python 3",
   "language": "python",
   "name": "python3"
  },
  "language_info": {
   "codemirror_mode": {
    "name": "ipython",
    "version": 3
   },
   "file_extension": ".py",
   "mimetype": "text/x-python",
   "name": "python",
   "nbconvert_exporter": "python",
   "pygments_lexer": "ipython3",
   "version": "3.8.5"
  }
 },
 "nbformat": 4,
 "nbformat_minor": 4
}
