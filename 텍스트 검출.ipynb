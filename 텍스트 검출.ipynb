{
 "cells": [
  {
   "cell_type": "code",
   "execution_count": null,
   "metadata": {},
   "outputs": [],
   "source": [
    "import numpy as np\n",
    "import pytesseract\n",
    "import cv2\n",
    "cap = cv2.VideoCapture(\"W video.avi\")\n",
    "\n",
    "if cap.isOpened() == False:\n",
    "    print(\"카메라를 열 수 없습니다.\")\n",
    "    exit(1)\n",
    "\n",
    "while(True):\n",
    "    ret,img_frame = cap.read()\n",
    "    if ret==False:\n",
    "        print(\"캡쳐 실패\")\n",
    "        break\n",
    "    key=cv2.waitKey(1)\n",
    "    if key==27:\n",
    "        break\n",
    "    img_copy = img_frame.copy()\n",
    "\n",
    "    # Grayscale, Gaussian blur, Otsu's threshold\n",
    "    image = img_copy\n",
    "    gray = cv2.cvtColor(image, cv2.COLOR_BGR2GRAY)\n",
    "    blur = cv2.GaussianBlur(gray, (3,3), 0)\n",
    "    thresh = cv2.threshold(blur, 50, 255, cv2.THRESH_BINARY_INV)[1]\n",
    "\n",
    "    # Morph open to remove noise and invert image\n",
    "    kernel = cv2.getStructuringElement(cv2.MORPH_RECT, (3,3))\n",
    "    opening = cv2.morphologyEx(thresh, cv2.MORPH_OPEN, kernel, iterations=1)\n",
    "    invert = 255 - opening\n",
    "    bordersize = 1000\n",
    "    border = cv2.copyMakeBorder(\n",
    "        invert,\n",
    "        top=bordersize,\n",
    "        bottom=bordersize,\n",
    "        left=bordersize,\n",
    "        right=bordersize,\n",
    "        borderType=cv2.BORDER_CONSTANT,\n",
    "        value=[255]\n",
    "    )\n",
    "\n",
    "\n",
    "\n",
    "    # Perform text extraction\n",
    "    data = pytesseract.image_to_string(border, lang='eng', config='--psm 10')\n",
    "    print(data)\n",
    "\n",
    "    cv2.imshow('thresh', thresh)\n",
    "    cv2.imshow('opening', opening)\n",
    "    cv2.imshow('invert', border)\n",
    "cv2.waitKey()\n",
    "cv2.destroyAllWindows()"
   ]
  }
 ],
 "metadata": {
  "kernelspec": {
   "display_name": "Python 3",
   "language": "python",
   "name": "python3"
  },
  "language_info": {
   "codemirror_mode": {
    "name": "ipython",
    "version": 3
   },
   "file_extension": ".py",
   "mimetype": "text/x-python",
   "name": "python",
   "nbconvert_exporter": "python",
   "pygments_lexer": "ipython3",
   "version": "3.8.5"
  }
 },
 "nbformat": 4,
 "nbformat_minor": 4
}
